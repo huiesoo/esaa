{
  "nbformat": 4,
  "nbformat_minor": 0,
  "metadata": {
    "colab": {
      "provenance": [],
      "include_colab_link": true
    },
    "kernelspec": {
      "name": "python3",
      "display_name": "Python 3"
    },
    "language_info": {
      "name": "python"
    }
  },
  "cells": [
    {
      "cell_type": "markdown",
      "metadata": {
        "id": "view-in-github",
        "colab_type": "text"
      },
      "source": [
        "<a href=\"https://colab.research.google.com/github/huiesoo/esaa/blob/main/%EC%97%B0%EC%8A%B5%EB%AC%B8%EC%A0%9C_%ED%9A%8C%EA%B7%802.ipynb\" target=\"_parent\"><img src=\"https://colab.research.google.com/assets/colab-badge.svg\" alt=\"Open In Colab\"/></a>"
      ]
    },
    {
      "cell_type": "markdown",
      "metadata": {
        "id": "OVjREzxqi3U1"
      },
      "source": [
        "# **1. 규제 선형 회귀 모델/ 회귀 트리**\n",
        "- 릿지 회귀모델 및 회귀 트리를 이용하여 전복의 나이를 예측해 보세요.\n",
        "\n",
        "- 전복의 ‘성별’, ‘키’, ‘지름’, ‘높이’, ‘전체무게’, ‘몸통무게’, ‘내장무게’, ‘껍질무게’를 이용해 ‘껍질의 고리수’를 예측한 뒤, **예측된 ‘껍질의 고리수’에 1.5를 더하면 전복의 나이**가 됩니다."
      ]
    },
    {
      "cell_type": "code",
      "metadata": {
        "id": "AdMN1y-1i_G4"
      },
      "source": [
        "# 기본 모듈 불러오기\n",
        "import numpy as np\n",
        "import pandas as pd\n",
        "\n",
        "import warnings\n",
        "warnings.filterwarnings(action='ignore')"
      ],
      "execution_count": 33,
      "outputs": []
    },
    {
      "cell_type": "markdown",
      "metadata": {
        "id": "fK6WkTaUjF_9"
      },
      "source": [
        "### 1) 데이터 불러오기 및 데이터 선택"
      ]
    },
    {
      "cell_type": "code",
      "metadata": {
        "id": "npiatc6TjCqM"
      },
      "source": [
        "# 데이터 로드\n",
        "data = pd.read_csv(\"/content/drive/MyDrive/ESAA/23-2/abalone.csv\")\n",
        "\n",
        "# 성별 M은 Male, F는 Female, I는 Infant 이므로 따로 열 만들기\n",
        "for label in \"MFI\":\n",
        "    data[label] = data[\"Sex\"] == label\n",
        "data.drop('Sex', axis=1, inplace=True)\n",
        "\n",
        "# X,y 데이터 선택\n",
        "y = data.Rings.values\n",
        "data.drop('Rings', axis=1, inplace=True)\n",
        "\n",
        "X = data.values.astype(float)"
      ],
      "execution_count": 34,
      "outputs": []
    },
    {
      "cell_type": "markdown",
      "metadata": {
        "id": "oRS_pBggjhWe"
      },
      "source": [
        "## 2) train/test 분리\n",
        ": 테스트 셋과 데이터 셋을 7:3 비율로 분리하세요."
      ]
    },
    {
      "cell_type": "code",
      "metadata": {
        "id": "MCos735FjRUg"
      },
      "source": [
        "# 필요한 모듈 불러오기\n",
        "from sklearn.model_selection import train_test_split"
      ],
      "execution_count": 35,
      "outputs": []
    },
    {
      "cell_type": "code",
      "metadata": {
        "id": "c2GBJgtRj0Ke"
      },
      "source": [
        "# train과 test set 분리 (train:test = 7:3 비율로)\n",
        "X_train, X_test, y_train, y_test = train_test_split(X, y, test_size=0.3)"
      ],
      "execution_count": 36,
      "outputs": []
    },
    {
      "cell_type": "markdown",
      "metadata": {
        "id": "bOxHN7dsj3xP"
      },
      "source": [
        "## 3) 릿지 모델을 이용한 모델링\n",
        ": 릿지 모델을 이용하여 전복의 나이를 예측해 보고 결과를 평가해 보세요."
      ]
    },
    {
      "cell_type": "markdown",
      "metadata": {
        "id": "SpLjzL0yks5X"
      },
      "source": [
        " 3-1) 릿지모델 생성, 교차검증, 평가에 필요한 모듈을 불러오세요."
      ]
    },
    {
      "cell_type": "code",
      "metadata": {
        "id": "rs5OSSjLj226"
      },
      "source": [
        "#필요한 모듈 불러오기\n",
        "from sklearn.linear_model import Ridge\n",
        "from sklearn.model_selection import cross_val_score\n",
        "from sklearn.metrics import mean_squared_error"
      ],
      "execution_count": 37,
      "outputs": []
    },
    {
      "cell_type": "markdown",
      "metadata": {
        "id": "-KTiaLjilHXT"
      },
      "source": [
        "3-2) 릿지 모델을 생성하고 훈련하여 MSE와 RMSE를 구하세요. 릿지 모델 생성 시  alpha는 0.3으로 설정합니다. (교차 검증 하지 않습니다.)"
      ]
    },
    {
      "cell_type": "code",
      "metadata": {
        "id": "eK37aNO5lOT-",
        "colab": {
          "base_uri": "https://localhost:8080/"
        },
        "outputId": "0146b935-425d-487a-bbb1-96dc0df3ad02"
      },
      "source": [
        "#릿지모델 생성 및 훈련\n",
        "ridge = Ridge(alpha = 0.3)\n",
        "ridge.fit(X_train, y_train)\n",
        "#예측값 구하기\n",
        "y_pred = ridge.predict(X_test)\n",
        "\n",
        "#구한 예측값을 활용해 최종적으로 전복의 나이 예측\n",
        "ridge_pred = y_pred + 1.5\n",
        "print(ridge_pred)\n",
        "#MSE와 RMSE구하기\n",
        "mse = mean_squared_error(y_test, ridge_pred)\n",
        "rmse = np.sqrt(mse)\n",
        "\n",
        "print('MSE:', mse)\n",
        "print('RMSE:', rmse)"
      ],
      "execution_count": 38,
      "outputs": [
        {
          "output_type": "stream",
          "name": "stdout",
          "text": [
            "[14.42659026  9.70831899 10.89919877 ... 13.95910358 10.1355028\n",
            " 15.67188927]\n",
            "MSE: 7.188724116661223\n",
            "RMSE: 2.6811796129057117\n"
          ]
        }
      ]
    },
    {
      "cell_type": "markdown",
      "metadata": {
        "id": "MK2LACYtliyO"
      },
      "source": [
        "3-3) 교차검증을 이용하여 0, 0.1, 1, 10, 100 중  모델 성능이 가장 좋게 나오는 (rmse가 최소가 되는) alpha를 구하세요."
      ]
    },
    {
      "cell_type": "code",
      "metadata": {
        "id": "0Bf_TsDomO4i"
      },
      "source": [
        "# 주어진 alpha\n",
        "alphas=[0, 0.1, 1, 10, 100]"
      ],
      "execution_count": 39,
      "outputs": []
    },
    {
      "cell_type": "code",
      "metadata": {
        "id": "n7Opz8bomXpM",
        "colab": {
          "base_uri": "https://localhost:8080/"
        },
        "outputId": "571ec3f9-d277-4c47-a468-2420787567d9"
      },
      "source": [
        "#alphas list 값을 반복하면서 alpha에 따른 평균 rmse를 구함\n",
        "for alpha in alphas:\n",
        "  ridge = Ridge(alpha = alpha)\n",
        "\n",
        "  #cross_val_score를 이용해 5 폴드의 평균 RMSE를 계산\n",
        "  neg_mse_scores = cross_val_score(ridge, X_train, y_train, scoring=\"neg_mean_squared_error\", cv=5)\n",
        "  avg_rmse = np.mean(np.sqrt(-1*neg_mse_scores))\n",
        "  print('alpha {0} 일 때 5folds의 평균 RMSE : {1:.3f}'.format(alpha, avg_rmse))"
      ],
      "execution_count": 40,
      "outputs": [
        {
          "output_type": "stream",
          "name": "stdout",
          "text": [
            "alpha 0 일 때 5folds의 평균 RMSE : 2.194\n",
            "alpha 0.1 일 때 5folds의 평균 RMSE : 2.194\n",
            "alpha 1 일 때 5folds의 평균 RMSE : 2.206\n",
            "alpha 10 일 때 5folds의 평균 RMSE : 2.351\n",
            "alpha 100 일 때 5folds의 평균 RMSE : 2.612\n"
          ]
        }
      ]
    },
    {
      "cell_type": "markdown",
      "metadata": {
        "id": "LpPsOGdcm5ch"
      },
      "source": [
        "## 4) XGBRegressor을 이용한 모델링\n",
        ": XGBRegressor 모델을 이용하여 전복의 나이를 예측해 보고 결과를 평가해 보세요."
      ]
    },
    {
      "cell_type": "markdown",
      "metadata": {
        "id": "mUIF11POny1k"
      },
      "source": [
        "4-1) XGBRegressor 훈련, 평가에 필요한 모듈을 불러오세요."
      ]
    },
    {
      "cell_type": "code",
      "metadata": {
        "id": "0tB7r-_HnJen"
      },
      "source": [
        "# 필요한 모듈 임포트\n",
        "from xgboost import XGBRegressor"
      ],
      "execution_count": 41,
      "outputs": []
    },
    {
      "cell_type": "markdown",
      "metadata": {
        "id": "_Gl2TyADoC2S"
      },
      "source": [
        "4-2) XGBregressor 모델을 생성하고 훈련하여 MSE와 RMSE를 구하세요."
      ]
    },
    {
      "cell_type": "code",
      "metadata": {
        "id": "KM5wcdkuoFk2",
        "colab": {
          "base_uri": "https://localhost:8080/"
        },
        "outputId": "518248c9-8381-49c5-b97d-7a185cdd55bf"
      },
      "source": [
        "#모델 생성 및 훈련\n",
        "xgb_reg = XGBRegressor()\n",
        "xgb_reg.fit(X_train, y_train)\n",
        "#예측값 구하기\n",
        "y_pred = xgb_reg.predict(X_test)\n",
        "\n",
        "#구한 예측값을 활용해 최종적으로 전복의 나이 예측\n",
        "xgb_pred = y_pred + 1.5\n",
        "print(xgb_pred)\n",
        "#MSE와 RMSE 구하기\n",
        "mse = mean_squared_error(y_test, xgb_pred)\n",
        "rmse = np.sqrt(mse)\n",
        "\n",
        "print('MSE:', mse)\n",
        "print('RMSE:', rmse)"
      ],
      "execution_count": 42,
      "outputs": [
        {
          "output_type": "stream",
          "name": "stdout",
          "text": [
            "[12.148662 10.001943 11.463745 ... 12.926023 10.896733 17.021948]\n",
            "MSE: 7.55788032940152\n",
            "RMSE: 2.749159931579376\n"
          ]
        }
      ]
    },
    {
      "cell_type": "markdown",
      "source": [
        "4-3) 생성한 모델의 피처 중요도를 시각화해보세요."
      ],
      "metadata": {
        "id": "VkJBJHQ_qVUP"
      }
    },
    {
      "cell_type": "code",
      "metadata": {
        "id": "MKD9V4AKpAPY",
        "colab": {
          "base_uri": "https://localhost:8080/",
          "height": 736
        },
        "outputId": "52671431-0df8-4f16-bcd3-1df9c2a6f1b2"
      },
      "source": [
        "from xgboost import plot_importance\n",
        "import seaborn as sns\n",
        "%matplotlib inline\n",
        "fig, ax = plt.subplots(1, 1, figsize=(10,8))\n",
        "plot_importance(xgb_reg, ax=ax)"
      ],
      "execution_count": 43,
      "outputs": [
        {
          "output_type": "execute_result",
          "data": {
            "text/plain": [
              "<Axes: title={'center': 'Feature importance'}, xlabel='F score', ylabel='Features'>"
            ]
          },
          "metadata": {},
          "execution_count": 43
        },
        {
          "output_type": "display_data",
          "data": {
            "text/plain": [
              "<Figure size 1000x800 with 1 Axes>"
            ],
            "image/png": "[encoded data removed]"
          },
          "metadata": {}
        }
      ]
    },
    {
      "cell_type": "markdown",
      "source": [
        "---"
      ],
      "metadata": {
        "id": "r3_q8tIMscmi"
      }
    },
    {
      "cell_type": "markdown",
      "metadata": {
        "id": "7fp_617QpGIK"
      },
      "source": [
        "# **2. 로지스틱 회귀분석**\n",
        "load_wine() 함수를 이용하여 와인 데이터를 다항분류하는 로지스틱 회귀모델을 생성하세요."
      ]
    },
    {
      "cell_type": "code",
      "metadata": {
        "id": "0s6eNftxpOku"
      },
      "source": [
        "# 필요한 모듈 불러오기\n",
        "from sklearn.datasets import load_wine\n",
        "from sklearn.model_selection import train_test_split\n",
        "from sklearn.linear_model import LogisticRegression\n",
        "from sklearn import metrics"
      ],
      "execution_count": 44,
      "outputs": []
    },
    {
      "cell_type": "markdown",
      "metadata": {
        "id": "COFC2gmIpWv8"
      },
      "source": [
        "## 1) 데이터 불러오기 및 변수 선택"
      ]
    },
    {
      "cell_type": "code",
      "metadata": {
        "id": "oyGjyyGWpgOn"
      },
      "source": [
        "wine = load_wine()\n",
        "\n",
        "wine_x = wine.data # x변수\n",
        "wine_y = wine.target # y변수"
      ],
      "execution_count": 45,
      "outputs": []
    },
    {
      "cell_type": "markdown",
      "metadata": {
        "id": "wwppN1b-pjAq"
      },
      "source": [
        "## 2) train/test 셋 분리"
      ]
    },
    {
      "cell_type": "code",
      "metadata": {
        "id": "WG0_2HQUpiVQ",
        "colab": {
          "base_uri": "https://localhost:8080/"
        },
        "outputId": "685e4af8-6455-4482-9087-48e27f8b51c4"
      },
      "source": [
        "x_train, x_test, y_train, y_test = train_test_split(wine_x, wine_y, test_size=0.3, random_state=123)\n",
        "\n",
        "x_train.shape\n",
        "y_train.shape"
      ],
      "execution_count": 46,
      "outputs": [
        {
          "output_type": "execute_result",
          "data": {
            "text/plain": [
              "(124,)"
            ]
          },
          "metadata": {},
          "execution_count": 46
        }
      ]
    },
    {
      "cell_type": "markdown",
      "metadata": {
        "id": "at-bYN42rsUK"
      },
      "source": [
        "## 3) 로지스틱 회귀모델을 이용한 모델링"
      ]
    },
    {
      "cell_type": "markdown",
      "metadata": {
        "id": "zd0Lf4Ejr_WQ"
      },
      "source": [
        "3-1) 로지스틱 회귀모델을 생성하여 훈련하세요."
      ]
    },
    {
      "cell_type": "code",
      "metadata": {
        "id": "5kaHD1nJpo9c",
        "colab": {
          "base_uri": "https://localhost:8080/",
          "height": 74
        },
        "outputId": "f4e93da6-fbfa-47c4-ef76-f02d03fd49de"
      },
      "source": [
        "log_reg = LogisticRegression()\n",
        "log_reg.fit(x_train, y_train)"
      ],
      "execution_count": 47,
      "outputs": [
        {
          "output_type": "execute_result",
          "data": {
            "text/plain": [
              "LogisticRegression()"
            ],
            "text/html": [
              "<style>#sk-container-id-3 {color: black;background-color: white;}#sk-container-id-3 pre{padding: 0;}#sk-container-id-3 div.sk-toggleable {background-color: white;}#sk-container-id-3 label.sk-toggleable__label {cursor: pointer;display: block;width: 100%;margin-bottom: 0;padding: 0.3em;box-sizing: border-box;text-align: center;}#sk-container-id-3 label.sk-toggleable__label-arrow:before {content: \"▸\";float: left;margin-right: 0.25em;color: #696969;}#sk-container-id-3 label.sk-toggleable__label-arrow:hover:before {color: black;}#sk-container-id-3 div.sk-estimator:hover label.sk-toggleable__label-arrow:before {color: black;}#sk-container-id-3 div.sk-toggleable__content {max-height: 0;max-width: 0;overflow: hidden;text-align: left;background-color: #f0f8ff;}#sk-container-id-3 div.sk-toggleable__content pre {margin: 0.2em;color: black;border-radius: 0.25em;background-color: #f0f8ff;}#sk-container-id-3 input.sk-toggleable__control:checked~div.sk-toggleable__content {max-height: 200px;max-width: 100%;overflow: auto;}#sk-container-id-3 input.sk-toggleable__control:checked~label.sk-toggleable__label-arrow:before {content: \"▾\";}#sk-container-id-3 div.sk-estimator input.sk-toggleable__control:checked~label.sk-toggleable__label {background-color: #d4ebff;}#sk-container-id-3 div.sk-label input.sk-toggleable__control:checked~label.sk-toggleable__label {background-color: #d4ebff;}#sk-container-id-3 input.sk-hidden--visually {border: 0;clip: rect(1px 1px 1px 1px);clip: rect(1px, 1px, 1px, 1px);height: 1px;margin: -1px;overflow: hidden;padding: 0;position: absolute;width: 1px;}#sk-container-id-3 div.sk-estimator {font-family: monospace;background-color: #f0f8ff;border: 1px dotted black;border-radius: 0.25em;box-sizing: border-box;margin-bottom: 0.5em;}#sk-container-id-3 div.sk-estimator:hover {background-color: #d4ebff;}#sk-container-id-3 div.sk-parallel-item::after {content: \"\";width: 100%;border-bottom: 1px solid gray;flex-grow: 1;}#sk-container-id-3 div.sk-label:hover label.sk-toggleable__label {background-color: #d4ebff;}#sk-container-id-3 div.sk-serial::before {content: \"\";position: absolute;border-left: 1px solid gray;box-sizing: border-box;top: 0;bottom: 0;left: 50%;z-index: 0;}#sk-container-id-3 div.sk-serial {display: flex;flex-direction: column;align-items: center;background-color: white;padding-right: 0.2em;padding-left: 0.2em;position: relative;}#sk-container-id-3 div.sk-item {position: relative;z-index: 1;}#sk-container-id-3 div.sk-parallel {display: flex;align-items: stretch;justify-content: center;background-color: white;position: relative;}#sk-container-id-3 div.sk-item::before, #sk-container-id-3 div.sk-parallel-item::before {content: \"\";position: absolute;border-left: 1px solid gray;box-sizing: border-box;top: 0;bottom: 0;left: 50%;z-index: -1;}#sk-container-id-3 div.sk-parallel-item {display: flex;flex-direction: column;z-index: 1;position: relative;background-color: white;}#sk-container-id-3 div.sk-parallel-item:first-child::after {align-self: flex-end;width: 50%;}#sk-container-id-3 div.sk-parallel-item:last-child::after {align-self: flex-start;width: 50%;}#sk-container-id-3 div.sk-parallel-item:only-child::after {width: 0;}#sk-container-id-3 div.sk-dashed-wrapped {border: 1px dashed gray;margin: 0 0.4em 0.5em 0.4em;box-sizing: border-box;padding-bottom: 0.4em;background-color: white;}#sk-container-id-3 div.sk-label label {font-family: monospace;font-weight: bold;display: inline-block;line-height: 1.2em;}#sk-container-id-3 div.sk-label-container {text-align: center;}#sk-container-id-3 div.sk-container {/* jupyter's `normalize.less` sets `[hidden] { display: none; }` but bootstrap.min.css set `[hidden] { display: none !important; }` so we also need the `!important` here to be able to override the default hidden behavior on the sphinx rendered scikit-learn.org. See: https://github.com/scikit-learn/scikit-learn/issues/21755 */display: inline-block !important;position: relative;}#sk-container-id-3 div.sk-text-repr-fallback {display: none;}</style><div id=\"sk-container-id-3\" class=\"sk-top-container\"><div class=\"sk-text-repr-fallback\"><pre>LogisticRegression()</pre><b>In a Jupyter environment, please rerun this cell to show the HTML representation or trust the notebook. <br />On GitHub, the HTML representation is unable to render, please try loading this page with nbviewer.org.</b></div><div class=\"sk-container\" hidden><div class=\"sk-item\"><div class=\"sk-estimator sk-toggleable\"><input class=\"sk-toggleable__control sk-hidden--visually\" id=\"sk-estimator-id-3\" type=\"checkbox\" checked><label for=\"sk-estimator-id-3\" class=\"sk-toggleable__label sk-toggleable__label-arrow\">LogisticRegression</label><div class=\"sk-toggleable__content\"><pre>LogisticRegression()</pre></div></div></div></div></div>"
            ]
          },
          "metadata": {},
          "execution_count": 47
        }
      ]
    },
    {
      "cell_type": "markdown",
      "metadata": {
        "id": "5icNrKefsR8A"
      },
      "source": [
        "3-2) 회귀 모델의 기울기와 절편을 구하세요."
      ]
    },
    {
      "cell_type": "code",
      "metadata": {
        "id": "fReIKxgLsU0_",
        "colab": {
          "base_uri": "https://localhost:8080/"
        },
        "outputId": "638fced5-39d7-4de6-a30d-c2e8fd5b4093"
      },
      "source": [
        "#기울기\n",
        "log_reg.coef_"
      ],
      "execution_count": 48,
      "outputs": [
        {
          "output_type": "execute_result",
          "data": {
            "text/plain": [
              "array([[-1.99751227e-01,  3.65450758e-01,  1.49472196e-01,\n",
              "        -1.88027165e-01, -2.28495279e-02,  1.95456589e-01,\n",
              "         4.66701510e-01, -1.66796736e-02,  8.23897555e-02,\n",
              "         6.75012051e-02, -1.92621931e-02,  2.94915906e-01,\n",
              "         7.42523456e-03],\n",
              "       [ 5.96476071e-01, -7.88673050e-01, -1.26181507e-01,\n",
              "         2.12254576e-01, -1.13504552e-02,  3.15786080e-01,\n",
              "         3.55148166e-01,  3.34675705e-02,  2.79035814e-01,\n",
              "        -1.17202539e+00,  2.61165812e-01,  4.64731786e-01,\n",
              "        -8.33633370e-03],\n",
              "       [-3.96724844e-01,  4.23222292e-01, -2.32906893e-02,\n",
              "        -2.42274112e-02,  3.41999831e-02, -5.11242669e-01,\n",
              "        -8.21849677e-01, -1.67878969e-02, -3.61425569e-01,\n",
              "         1.10452419e+00, -2.41903619e-01, -7.59647692e-01,\n",
              "         9.11099142e-04]])"
            ]
          },
          "metadata": {},
          "execution_count": 48
        }
      ]
    },
    {
      "cell_type": "code",
      "metadata": {
        "id": "tbWm0jEnsbdJ",
        "colab": {
          "base_uri": "https://localhost:8080/"
        },
        "outputId": "9c5618ac-0e21-468e-c109-8db900e7dd89"
      },
      "source": [
        "#절편\n",
        "log_reg.intercept_"
      ],
      "execution_count": 49,
      "outputs": [
        {
          "output_type": "execute_result",
          "data": {
            "text/plain": [
              "array([-0.04177839,  0.0955105 , -0.05373211])"
            ]
          },
          "metadata": {},
          "execution_count": 49
        }
      ]
    },
    {
      "cell_type": "markdown",
      "metadata": {
        "id": "Bq9ocTsystff"
      },
      "source": [
        "3-3) 모델의 정확도를 구하세요."
      ]
    },
    {
      "cell_type": "code",
      "metadata": {
        "id": "nQcUKZyOsy3J",
        "colab": {
          "base_uri": "https://localhost:8080/"
        },
        "outputId": "a489c283-ab92-41c4-8f44-9db8dde458b2"
      },
      "source": [
        "#모델의 예측값 구하기\n",
        "y_pred = log_reg.predict(x_test)\n",
        "\n",
        "#모델의 정확도 구하기\n",
        "from sklearn.metrics import accuracy_score\n",
        "accuracy_score(y_test, y_pred)"
      ],
      "execution_count": 50,
      "outputs": [
        {
          "output_type": "execute_result",
          "data": {
            "text/plain": [
              "0.9629629629629629"
            ]
          },
          "metadata": {},
          "execution_count": 50
        }
      ]
    }
  ]
}
